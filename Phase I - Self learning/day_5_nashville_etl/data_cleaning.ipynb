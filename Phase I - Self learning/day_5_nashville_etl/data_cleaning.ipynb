{
 "cells": [
  {
   "cell_type": "code",
   "execution_count": 1,
   "id": "d5f776fe",
   "metadata": {},
   "outputs": [
    {
     "name": "stdout",
     "output_type": "stream",
     "text": [
      "   Unnamed: 0.1  Unnamed: 0         Parcel ID           Land Use  \\\n",
      "0             0           0  105 03 0D 008.00  RESIDENTIAL CONDO   \n",
      "1             1           1   105 11 0 080.00      SINGLE FAMILY   \n",
      "2             2           2   118 03 0 130.00      SINGLE FAMILY   \n",
      "3             3           3   119 01 0 479.00      SINGLE FAMILY   \n",
      "4             4           4   119 05 0 186.00      SINGLE FAMILY   \n",
      "\n",
      "    Property Address Suite/ Condo   # Property City   Sale Date  Sale Price  \\\n",
      "0    1208  3RD AVE S                8     NASHVILLE  2013-01-24      132000   \n",
      "1   1802  STEWART PL              NaN     NASHVILLE  2013-01-11      191500   \n",
      "2  2761  ROSEDALE PL              NaN     NASHVILLE  2013-01-18      202000   \n",
      "3  224  PEACHTREE ST              NaN     NASHVILLE  2013-01-18       32000   \n",
      "4      316  LUTIE ST              NaN     NASHVILLE  2013-01-23      102000   \n",
      "\n",
      "    Legal Reference  ... Building Value Total Value Finished Area  \\\n",
      "0  20130128-0008725  ...            NaN         NaN           NaN   \n",
      "1  20130118-0006337  ...       134400.0    168300.0    1149.00000   \n",
      "2  20130124-0008033  ...       157800.0    191800.0    2090.82495   \n",
      "3  20130128-0008863  ...       243700.0    268700.0    2145.60001   \n",
      "4  20130131-0009929  ...       138100.0    164800.0    1969.00000   \n",
      "\n",
      "  Foundation Type Year Built Exterior Wall  Grade Bedrooms  Full Bath  \\\n",
      "0             NaN        NaN           NaN    NaN      NaN        NaN   \n",
      "1         PT BSMT     1941.0         BRICK   C         2.0        1.0   \n",
      "2            SLAB     2000.0   BRICK/FRAME   C         3.0        2.0   \n",
      "3       FULL BSMT     1948.0   BRICK/FRAME   B         4.0        2.0   \n",
      "4           CRAWL     1910.0         FRAME   C         2.0        1.0   \n",
      "\n",
      "  Half Bath  \n",
      "0       NaN  \n",
      "1       0.0  \n",
      "2       1.0  \n",
      "3       0.0  \n",
      "4       0.0  \n",
      "\n",
      "[5 rows x 31 columns]\n",
      "Shape of the dataset: (56636, 31)\n"
     ]
    }
   ],
   "source": [
    "import pandas as pd\n",
    "\n",
    "# Load the dataset\n",
    "df = pd.read_csv('D:/Stephy/data-engineer-journey/day_5_nashville_etl/Nashville_housing_data_2013_2016.csv')\n",
    "# Display the first few rows of the dataset\n",
    "print(df.head()) \n",
    "# Display the shape of the dataset\n",
    "print(\"Shape of the dataset:\", df.shape)"
   ]
  },
  {
   "cell_type": "code",
   "execution_count": 2,
   "id": "c1ae301f",
   "metadata": {},
   "outputs": [
    {
     "name": "stdout",
     "output_type": "stream",
     "text": [
      "<class 'pandas.core.frame.DataFrame'>\n",
      "RangeIndex: 56636 entries, 0 to 56635\n",
      "Data columns (total 31 columns):\n",
      " #   Column                             Non-Null Count  Dtype  \n",
      "---  ------                             --------------  -----  \n",
      " 0   Unnamed: 0.1                       56636 non-null  int64  \n",
      " 1   Unnamed: 0                         56636 non-null  int64  \n",
      " 2   Parcel ID                          56636 non-null  object \n",
      " 3   Land Use                           56636 non-null  object \n",
      " 4   Property Address                   56477 non-null  object \n",
      " 5   Suite/ Condo   #                   6109 non-null   object \n",
      " 6   Property City                      56477 non-null  object \n",
      " 7   Sale Date                          56636 non-null  object \n",
      " 8   Sale Price                         56636 non-null  int64  \n",
      " 9   Legal Reference                    56636 non-null  object \n",
      " 10  Sold As Vacant                     56636 non-null  object \n",
      " 11  Multiple Parcels Involved in Sale  56636 non-null  object \n",
      " 12  Owner Name                         25261 non-null  object \n",
      " 13  Address                            26017 non-null  object \n",
      " 14  City                               26017 non-null  object \n",
      " 15  State                              26017 non-null  object \n",
      " 16  Acreage                            26017 non-null  float64\n",
      " 17  Tax District                       26017 non-null  object \n",
      " 18  Neighborhood                       26017 non-null  float64\n",
      " 19  image                              25335 non-null  object \n",
      " 20  Land Value                         26017 non-null  float64\n",
      " 21  Building Value                     26017 non-null  float64\n",
      " 22  Total Value                        26017 non-null  float64\n",
      " 23  Finished Area                      24166 non-null  float64\n",
      " 24  Foundation Type                    24164 non-null  object \n",
      " 25  Year Built                         24165 non-null  float64\n",
      " 26  Exterior Wall                      24165 non-null  object \n",
      " 27  Grade                              24165 non-null  object \n",
      " 28  Bedrooms                           24159 non-null  float64\n",
      " 29  Full Bath                          24277 non-null  float64\n",
      " 30  Half Bath                          24146 non-null  float64\n",
      "dtypes: float64(10), int64(3), object(18)\n",
      "memory usage: 13.4+ MB\n",
      "None\n",
      "       Unnamed: 0.1   Unnamed: 0    Sale Price       Acreage  Neighborhood  \\\n",
      "count   56636.00000  56636.00000  5.663600e+04  26017.000000  26017.000000   \n",
      "mean    28317.50000  28317.50000  3.272111e+05      0.498903   4356.215782   \n",
      "std     16349.54926  16349.54926  9.287425e+05      1.570396   2170.348270   \n",
      "min         0.00000      0.00000  5.000000e+01      0.010000    107.000000   \n",
      "25%     14158.75000  14158.75000  1.350000e+05      0.180000   3126.000000   \n",
      "50%     28317.50000  28317.50000  2.054500e+05      0.270000   3929.000000   \n",
      "75%     42476.25000  42476.25000  3.290000e+05      0.450000   6228.000000   \n",
      "max     56635.00000  56635.00000  5.427806e+07    160.060000   9530.000000   \n",
      "\n",
      "         Land Value  Building Value   Total Value  Finished Area  \\\n",
      "count  2.601700e+04    2.601700e+04  2.601700e+04   24166.000000   \n",
      "mean   6.907267e+04    1.608025e+05  2.323971e+05    1926.954345   \n",
      "std    1.060405e+05    2.068041e+05  2.810703e+05    1687.017313   \n",
      "min    1.000000e+02    0.000000e+00  1.000000e+02       0.000000   \n",
      "25%    2.100000e+04    7.590000e+04  1.028000e+05    1239.000000   \n",
      "50%    2.880000e+04    1.114000e+05  1.485000e+05    1632.000000   \n",
      "75%    6.000000e+04    1.807000e+05  2.685000e+05    2212.000000   \n",
      "max    2.772000e+06    1.297180e+07  1.394040e+07  197988.000000   \n",
      "\n",
      "         Year Built      Bedrooms     Full Bath     Half Bath  \n",
      "count  24165.000000  24159.000000  24277.000000  24146.000000  \n",
      "mean    1963.749224      3.090029      1.886106      0.283981  \n",
      "std       26.546141      0.852942      0.961572      0.487905  \n",
      "min     1799.000000      0.000000      0.000000      0.000000  \n",
      "25%     1948.000000      3.000000      1.000000      0.000000  \n",
      "50%     1960.000000      3.000000      2.000000      0.000000  \n",
      "75%     1983.000000      3.000000      2.000000      1.000000  \n",
      "max     2017.000000     11.000000     10.000000      3.000000  \n",
      "Index(['Unnamed: 0.1', 'Unnamed: 0', 'Parcel ID', 'Land Use',\n",
      "       'Property Address', 'Suite/ Condo   #', 'Property City', 'Sale Date',\n",
      "       'Sale Price', 'Legal Reference', 'Sold As Vacant',\n",
      "       'Multiple Parcels Involved in Sale', 'Owner Name', 'Address', 'City',\n",
      "       'State', 'Acreage', 'Tax District', 'Neighborhood', 'image',\n",
      "       'Land Value', 'Building Value', 'Total Value', 'Finished Area',\n",
      "       'Foundation Type', 'Year Built', 'Exterior Wall', 'Grade', 'Bedrooms',\n",
      "       'Full Bath', 'Half Bath'],\n",
      "      dtype='object')\n"
     ]
    }
   ],
   "source": [
    "\n",
    "print(df.info())    \n",
    "# Display summary statistics of the dataset\n",
    "print(df.describe())\n",
    "# Display the column names\n",
    "print(df.columns)"
   ]
  },
  {
   "cell_type": "code",
   "execution_count": null,
   "id": "8442a150",
   "metadata": {},
   "outputs": [
    {
     "data": {
      "text/html": [
       "\n",
       "            <div>\n",
       "                <ins><a href=\"https://ydata.ai/register\">Upgrade to ydata-sdk</a></ins>\n",
       "                <p>\n",
       "                    Improve your data and profiling with ydata-sdk, featuring data quality scoring, redundancy detection, outlier identification, text validation, and synthetic data generation.\n",
       "                </p>\n",
       "            </div>\n",
       "            "
      ],
      "text/plain": [
       "<IPython.core.display.HTML object>"
      ]
     },
     "metadata": {},
     "output_type": "display_data"
    },
    {
     "data": {
      "application/vnd.jupyter.widget-view+json": {
       "model_id": "47fc1fff0c7d4844ab6f77920cabbc64",
       "version_major": 2,
       "version_minor": 0
      },
      "text/plain": [
       "Summarize dataset:   0%|          | 0/5 [00:00<?, ?it/s]"
      ]
     },
     "metadata": {},
     "output_type": "display_data"
    },
    {
     "name": "stderr",
     "output_type": "stream",
     "text": [
      "100%|██████████| 31/31 [00:05<00:00,  5.81it/s]\n"
     ]
    },
    {
     "data": {
      "application/vnd.jupyter.widget-view+json": {
       "model_id": "edc79f304a1943b489fbd51d0d424a35",
       "version_major": 2,
       "version_minor": 0
      },
      "text/plain": [
       "Generate report structure:   0%|          | 0/1 [00:00<?, ?it/s]"
      ]
     },
     "metadata": {},
     "output_type": "display_data"
    },
    {
     "data": {
      "application/vnd.jupyter.widget-view+json": {
       "model_id": "3817c1ea30a74cccbca20c6a81ea1b59",
       "version_major": 2,
       "version_minor": 0
      },
      "text/plain": [
       "Render HTML:   0%|          | 0/1 [00:00<?, ?it/s]"
      ]
     },
     "metadata": {},
     "output_type": "display_data"
    },
    {
     "data": {
      "application/vnd.jupyter.widget-view+json": {
       "model_id": "da2900068bd1472aab4af109044116cc",
       "version_major": 2,
       "version_minor": 0
      },
      "text/plain": [
       "Export report to file:   0%|          | 0/1 [00:00<?, ?it/s]"
      ]
     },
     "metadata": {},
     "output_type": "display_data"
    }
   ],
   "source": [
    "import ydata_profiling\n",
    "\n",
    "# Generate a profile report\n",
    "profile = ydata_profiling.ProfileReport(df, title=\"Nashville Housing Data Profile\", explorative=True)\n",
    "# Save the profile report to an HTML file   \n",
    "profile.to_file(\"nashville_housing_data_profile.html\")\n"
   ]
  },
  {
   "cell_type": "code",
   "execution_count": null,
   "id": "315e8918",
   "metadata": {},
   "outputs": [],
   "source": [
    " "
   ]
  }
 ],
 "metadata": {
  "kernelspec": {
   "display_name": "base",
   "language": "python",
   "name": "python3"
  },
  "language_info": {
   "codemirror_mode": {
    "name": "ipython",
    "version": 3
   },
   "file_extension": ".py",
   "mimetype": "text/x-python",
   "name": "python",
   "nbconvert_exporter": "python",
   "pygments_lexer": "ipython3",
   "version": "3.12.7"
  }
 },
 "nbformat": 4,
 "nbformat_minor": 5
}
