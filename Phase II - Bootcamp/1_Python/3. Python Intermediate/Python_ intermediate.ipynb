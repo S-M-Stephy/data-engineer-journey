{
 "cells": [
  {
   "cell_type": "markdown",
   "id": "0cc52324-eca3-4591-9463-25e033ea7161",
   "metadata": {},
   "source": [
    "# 1. Function\n",
    "- for code reuse\n",
    "- **Function definition**:\n",
    "  - ```\n",
    "    def function_name(arguments):\n",
    "        '''\n",
    "            doc-string(comments about the functions - how it works)\n",
    "        '''\n",
    "        statements\n",
    "        return value \n",
    "    ```\n",
    "- arguments and return statement are optional"
   ]
  },
  {
   "cell_type": "code",
   "execution_count": null,
   "id": "4d03b4d1-d036-4abd-8087-c05a9a09cdb4",
   "metadata": {},
   "outputs": [],
   "source": [
    "len() # Shift + tab shows the doc-string"
   ]
  },
  {
   "cell_type": "code",
   "execution_count": 13,
   "id": "5da63a18-4c34-4fec-b1a8-20716b4a32e2",
   "metadata": {},
   "outputs": [],
   "source": [
    "def say_my_name():\n",
    "    print(\"Stephy\")\n"
   ]
  },
  {
   "cell_type": "code",
   "execution_count": 15,
   "id": "ac7e3ac9-370a-4778-8657-d837f5369ddb",
   "metadata": {},
   "outputs": [
    {
     "name": "stdout",
     "output_type": "stream",
     "text": [
      "Stephy\n"
     ]
    }
   ],
   "source": [
    "say_my_name()"
   ]
  },
  {
   "cell_type": "markdown",
   "id": "af5212b5-92a5-4cd0-8445-29cdb3f40939",
   "metadata": {},
   "source": [
    "## 1.1 Function Arguments\n",
    "### 1.1.1 Default/Keyword Arguments"
   ]
  },
  {
   "cell_type": "code",
   "execution_count": 19,
   "id": "80e4410c-0d76-4671-9bb8-76eb5f84dda1",
   "metadata": {},
   "outputs": [],
   "source": [
    "def double_the_no(num = 1):\n",
    "    return num * 2"
   ]
  },
  {
   "cell_type": "code",
   "execution_count": 27,
   "id": "f3bc9879-5235-4862-baef-30d905d1acf7",
   "metadata": {},
   "outputs": [
    {
     "name": "stdout",
     "output_type": "stream",
     "text": [
      "2\n",
      "20\n"
     ]
    }
   ],
   "source": [
    "print(double_the_no())   # Default\n",
    "print(double_the_no(10))   # num = 10"
   ]
  },
  {
   "cell_type": "markdown",
   "id": "b1cdd9ca-a96e-46f8-aeaa-3ed0a27f10f7",
   "metadata": {},
   "source": [
    "### 1.1.2 Positional Arguments\n",
    "- arguments cannot have an '=' or default value.\n",
    "- expects atleast one argument.\n",
    "- cannot accept more than specified no of arguments"
   ]
  },
  {
   "cell_type": "code",
   "execution_count": 39,
   "id": "78d4f020-1c57-4f25-aeb2-71e7fe65b4a9",
   "metadata": {},
   "outputs": [],
   "source": [
    "def double_the_no(num):\n",
    "    return num * 2"
   ]
  },
  {
   "cell_type": "code",
   "execution_count": 41,
   "id": "8ba37f2c-139c-4a5f-84bc-45c164192bcf",
   "metadata": {},
   "outputs": [
    {
     "ename": "TypeError",
     "evalue": "double_the_no() missing 1 required positional argument: 'num'",
     "output_type": "error",
     "traceback": [
      "\u001b[1;31m---------------------------------------------------------------------------\u001b[0m",
      "\u001b[1;31mTypeError\u001b[0m                                 Traceback (most recent call last)",
      "Cell \u001b[1;32mIn[41], line 1\u001b[0m\n\u001b[1;32m----> 1\u001b[0m double_the_no()\n",
      "\u001b[1;31mTypeError\u001b[0m: double_the_no() missing 1 required positional argument: 'num'"
     ]
    }
   ],
   "source": [
    "double_the_no()"
   ]
  },
  {
   "cell_type": "code",
   "execution_count": 43,
   "id": "32d9af50-95b7-4ce7-aa06-42a88033ee0e",
   "metadata": {},
   "outputs": [
    {
     "data": {
      "text/plain": [
       "24"
      ]
     },
     "execution_count": 43,
     "metadata": {},
     "output_type": "execute_result"
    }
   ],
   "source": [
    "double_the_no(12)"
   ]
  },
  {
   "cell_type": "markdown",
   "id": "1e69c742-42f6-4bc5-b63c-325ef78187d0",
   "metadata": {},
   "source": [
    "### 1.1.3 Dynamic Arguments\n",
    "- **\\*args** - to pass variable no. of arguments.\n",
    "- **\\*\\*kwargs** - to pass dictionary."
   ]
  },
  {
   "cell_type": "code",
   "execution_count": 46,
   "id": "b9ab93c8-f1a8-4468-92fb-7ba449de4be6",
   "metadata": {},
   "outputs": [
    {
     "name": "stdout",
     "output_type": "stream",
     "text": [
      "name\n",
      "age\n",
      "phone\n"
     ]
    }
   ],
   "source": [
    "def database_col(*args):\n",
    "    for arg in args:\n",
    "        print(arg)\n",
    "\n",
    "database_col(\"name\",\"age\",\"phone\")"
   ]
  },
  {
   "cell_type": "code",
   "execution_count": 52,
   "id": "9bc0af37-30dc-48ae-ab18-0dd3c1bd40b7",
   "metadata": {},
   "outputs": [
    {
     "name": "stdout",
     "output_type": "stream",
     "text": [
      "('name', 'Stephy')\n",
      "('age', 21)\n"
     ]
    }
   ],
   "source": [
    "def database_col(**kwargs):\n",
    "    for item in kwargs.items():\n",
    "        print(item)\n",
    "\n",
    "database_col(name=\"Stephy\", age=21)"
   ]
  },
  {
   "cell_type": "markdown",
   "id": "294a663a-dd42-4747-a751-dab825545ed8",
   "metadata": {},
   "source": [
    "## 1.2 Lambda Function\n",
    "- anonymous function\n",
    "- written in a single line"
   ]
  },
  {
   "cell_type": "code",
   "execution_count": 3,
   "id": "9c042bb2-4388-4948-af75-b1b174476951",
   "metadata": {},
   "outputs": [
    {
     "data": {
      "text/plain": [
       "4"
      ]
     },
     "execution_count": 3,
     "metadata": {},
     "output_type": "execute_result"
    }
   ],
   "source": [
    "square_num = lambda num: num**2\n",
    "square_num(2)"
   ]
  },
  {
   "cell_type": "code",
   "execution_count": 9,
   "id": "587f3bee-4ea3-44e5-b3f3-ab273193d5e3",
   "metadata": {},
   "outputs": [
    {
     "name": "stdout",
     "output_type": "stream",
     "text": [
      "hello\n"
     ]
    }
   ],
   "source": [
    "say_hello = lambda :print(\"hello\")\n",
    "say_hello()"
   ]
  },
  {
   "cell_type": "markdown",
   "id": "82a9f8d4-1f97-48d9-823d-72aae30e3afe",
   "metadata": {},
   "source": [
    "---\n",
    "# 2. Object Oriented Programming(OOP)\n",
    "## 2.1 Object\n",
    "- Everything in Python is an object"
   ]
  },
  {
   "cell_type": "code",
   "execution_count": 17,
   "id": "c9e21eda-e8e9-4b6a-bfc9-adbcf7413ed8",
   "metadata": {},
   "outputs": [
    {
     "name": "stdout",
     "output_type": "stream",
     "text": [
      "<class 'int'>\n",
      "<class 'str'>\n",
      "<class 'list'>\n",
      "<class 'tuple'>\n",
      "<class 'dict'>\n"
     ]
    }
   ],
   "source": [
    "print(type(1))\n",
    "print(type('s'))\n",
    "print(type([]))\n",
    "print(type(()))\n",
    "print(type({}))"
   ]
  },
  {
   "cell_type": "markdown",
   "id": "60372b2a-359b-4ef8-8732-054d59cb80f4",
   "metadata": {},
   "source": [
    "## 2.2 Class\n",
    "- Helps us make our own objects ( user-defined objects ) using *class* keyword.\n",
    "- Multiple instances of the class can be created."
   ]
  },
  {
   "cell_type": "code",
   "execution_count": 30,
   "id": "5be729a0-0e58-45ab-9ba5-46a94287e79a",
   "metadata": {},
   "outputs": [
    {
     "name": "stdout",
     "output_type": "stream",
     "text": [
      "<class '__main__.Sample'>\n"
     ]
    }
   ],
   "source": [
    "class Sample():   # In Python this is an object. A new object type called Sample is created\n",
    "    pass\n",
    "    \n",
    "x = Sample()   # An instance of Sample class. We instantiate the Sample class\n",
    "y = Sample()\n",
    "\n",
    "print(type(x))"
   ]
  },
  {
   "cell_type": "markdown",
   "id": "5842fcb9-42c3-46a5-82d4-456884e23b18",
   "metadata": {},
   "source": [
    "### 2.2.1 Attribute\n",
    "- Syntax - **self.attribute = something**\n",
    "- special method **'\\_\\_init\\_\\_()'** is called right after the object is created.\n",
    "- Attribute = variable in Python."
   ]
  },
  {
   "cell_type": "code",
   "execution_count": 35,
   "id": "82f2ebaa-7697-49ec-b70a-8bd73ce5059a",
   "metadata": {},
   "outputs": [
    {
     "data": {
      "text/plain": [
       "'Lab'"
      ]
     },
     "execution_count": 35,
     "metadata": {},
     "output_type": "execute_result"
    }
   ],
   "source": [
    "class Dog(object):\n",
    "    def __init__(self, breed):\n",
    "        self.breed = breed\n",
    "sam = Dog(\"Lab\") # Instance or copy of Dog class\n",
    "sam.breed"
   ]
  },
  {
   "cell_type": "markdown",
   "id": "274b881f-9d28-43f1-bfd7-2ef9239c0299",
   "metadata": {},
   "source": [
    "### 2.2.2 Method\n",
    "- Method = function in Python."
   ]
  },
  {
   "cell_type": "code",
   "execution_count": 51,
   "id": "0a4cb594-1b50-42d3-959c-554e7bc5df29",
   "metadata": {},
   "outputs": [
    {
     "name": "stdout",
     "output_type": "stream",
     "text": [
      "Radius =  5\n",
      "Area =  78.5\n"
     ]
    }
   ],
   "source": [
    "class Circle(object):\n",
    "    pi = 3.14   # Default attribute ( called Class - Object attribute )\n",
    "    def __init__(self, radius = 1):\n",
    "        self.radius = radius\n",
    "    def area(self):\n",
    "        return Circle.pi * self.radius * self.radius\n",
    "    def setRadius(self, radius):\n",
    "        self.radius = radius\n",
    "    def getRadius(self):\n",
    "        return self.radius\n",
    "\n",
    "c = Circle()\n",
    "c.setRadius(5)\n",
    "print(\"Radius = \", c.getRadius())\n",
    "print(\"Area = \", c.area())"
   ]
  },
  {
   "cell_type": "markdown",
   "id": "e28352b1-e0a5-45da-9db8-4ce349308e50",
   "metadata": {},
   "source": [
    "### 2.2.3 Instance vs Class vs Static Method\n",
    "- Instance method - **self**\n",
    "- Class method - **cls**\n",
    "- Static method - nothing"
   ]
  },
  {
   "cell_type": "code",
   "execution_count": 66,
   "id": "e0dca893-b1ff-4999-8bc3-ac39cf12b527",
   "metadata": {},
   "outputs": [
    {
     "name": "stdout",
     "output_type": "stream",
     "text": [
      "Name =  Stephy \n",
      "Age =  21 \n",
      "School =  ABC School\n",
      "Stephy 21 FPS\n",
      "chapter 1, chapter 2, chapter 3\n"
     ]
    }
   ],
   "source": [
    "class MyClass(object):\n",
    "    # Class attribute\n",
    "    School_name = 'ABC School'\n",
    "\n",
    "    # Constructor\n",
    "    def __init__(self, name, age):\n",
    "        # Instance attributes\n",
    "        self.name = name\n",
    "        self.age = age\n",
    "\n",
    "    # Instance method \n",
    "    def show(self):\n",
    "        print(self.name, self.age, MyClass.School_name)\n",
    "\n",
    "    @classmethod\n",
    "    def changeSchool(cls, school_name):\n",
    "        cls.School_name = school_name\n",
    "\n",
    "    @staticmethod\n",
    "    def find_notes(subject_name):\n",
    "        print(\"chapter 1, chapter 2, chapter 3\")\n",
    "\n",
    "Stephy = MyClass(\"Stephy\", 21)\n",
    "print(\"Name = \", Stephy.name,\"\\nAge = \", Stephy.age, \"\\nSchool = \", Stephy.School_name)\n",
    "MyClass.changeSchool(\"FPS\")\n",
    "Stephy.show()\n",
    "Stephy.find_notes(\"chem\")"
   ]
  },
  {
   "cell_type": "markdown",
   "id": "c4eae0fa-0778-45ac-81ce-812cd603c28f",
   "metadata": {},
   "source": [
    "## Mini Challenge 1\n",
    "Write a function square_root having default value of a = 9 and find the square root of the same."
   ]
  },
  {
   "cell_type": "code",
   "execution_count": 69,
   "id": "0da441e7-7302-4031-ab82-2204bbde795a",
   "metadata": {},
   "outputs": [
    {
     "data": {
      "text/plain": [
       "81"
      ]
     },
     "execution_count": 69,
     "metadata": {},
     "output_type": "execute_result"
    }
   ],
   "source": [
    "def square_root(a = 9):\n",
    "    return a**2\n",
    "square_root()"
   ]
  },
  {
   "cell_type": "code",
   "execution_count": 71,
   "id": "0b1fdad9-3da7-41b7-a179-125a821b0a19",
   "metadata": {},
   "outputs": [
    {
     "data": {
      "text/plain": [
       "81"
      ]
     },
     "execution_count": 71,
     "metadata": {},
     "output_type": "execute_result"
    }
   ],
   "source": [
    "square_root = lambda a = 9 : a**2\n",
    "square_root()"
   ]
  },
  {
   "cell_type": "markdown",
   "id": "2556fd65-caf1-49c8-97a3-499472127370",
   "metadata": {},
   "source": [
    "## Mini Challenge 2\n",
    "Write a function function_tuple that takes in two numbers a and b and returns the sum as well as the product of these numbers."
   ]
  },
  {
   "cell_type": "code",
   "execution_count": 79,
   "id": "df12bf1f-66a1-4da7-a5a8-949f823db426",
   "metadata": {},
   "outputs": [
    {
     "name": "stdout",
     "output_type": "stream",
     "text": [
      "Sum =  15\n",
      "Product =  26\n"
     ]
    }
   ],
   "source": [
    "def function_tuple(a, b):\n",
    "    print(\"Sum = \", a + b)\n",
    "    print(\"Product = \", a * b)\n",
    "\n",
    "function_tuple(2, 13)"
   ]
  },
  {
   "cell_type": "code",
   "execution_count": null,
   "id": "1c37b8c5-5bfb-43a5-9595-567dedd2653f",
   "metadata": {},
   "outputs": [],
   "source": []
  }
 ],
 "metadata": {
  "kernelspec": {
   "display_name": "Python [conda env:base] *",
   "language": "python",
   "name": "conda-base-py"
  },
  "language_info": {
   "codemirror_mode": {
    "name": "ipython",
    "version": 3
   },
   "file_extension": ".py",
   "mimetype": "text/x-python",
   "name": "python",
   "nbconvert_exporter": "python",
   "pygments_lexer": "ipython3",
   "version": "3.12.7"
  }
 },
 "nbformat": 4,
 "nbformat_minor": 5
}
