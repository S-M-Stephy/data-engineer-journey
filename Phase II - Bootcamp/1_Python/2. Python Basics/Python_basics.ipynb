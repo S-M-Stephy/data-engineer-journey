{
 "cells": [
  {
   "cell_type": "markdown",
   "id": "fa84bd3d-b895-4576-aa5a-263e22a7f577",
   "metadata": {},
   "source": [
    "# String"
   ]
  },
  {
   "cell_type": "markdown",
   "id": "299f3c49-a248-4d08-a4af-23c523eea0b2",
   "metadata": {},
   "source": [
    "- String is the text you see everywhere.\n",
    "- Every string is an object of the 'str' class.\n",
    "- It is stored as a sequence of characters.\n",
    "- Each character in the sequence is numbered or indexed.\n",
    "- There are positive(0,1,2,3,...,n-1) and negative(-(n-1),...,-2,-1) indexes."
   ]
  },
  {
   "cell_type": "code",
   "execution_count": 46,
   "id": "fb3758ab-9067-4771-99dc-c333c66080e1",
   "metadata": {},
   "outputs": [
    {
     "name": "stdout",
     "output_type": "stream",
     "text": [
      "Hello Data World!\n"
     ]
    }
   ],
   "source": [
    "print(\"Hello Data World!\")"
   ]
  },
  {
   "cell_type": "markdown",
   "id": "5313d4a4-2a60-4b7d-87bd-1c3a41aab295",
   "metadata": {},
   "source": [
    "# Variable\n",
    "A container to store different types of data."
   ]
  },
  {
   "cell_type": "code",
   "execution_count": 55,
   "id": "c6f941ba-6207-42bd-97d5-3327b96aa989",
   "metadata": {},
   "outputs": [
    {
     "name": "stdout",
     "output_type": "stream",
     "text": [
      "Hello Data World!\n",
      "Hi, I'm Chiro and I'm 21.\n"
     ]
    }
   ],
   "source": [
    "str = \"Hello Data World!\"\n",
    "print(str)\n",
    "\n",
    "name = \"Chiro\"\n",
    "age = 21\n",
    "print(f\"Hi, I'm {name} and I'm {age}.\")"
   ]
  },
  {
   "cell_type": "markdown",
   "id": "02c5eed3-d0d5-4d25-ad5a-17d8463feccb",
   "metadata": {},
   "source": [
    "## String Indexing and Slicing\n",
    "\n",
    "- String indexing retrieves the character at a given index.\n",
    "- String slicing gives the subset of the string"
   ]
  },
  {
   "cell_type": "code",
   "execution_count": 21,
   "id": "288cf75c-7323-4060-a63f-f61d12348c4b",
   "metadata": {},
   "outputs": [
    {
     "name": "stdout",
     "output_type": "stream",
     "text": [
      "String Indexing:\n",
      "H\n",
      "a\n",
      "!\n",
      "String Slicing:\n",
      "Hello\n",
      "orld\n",
      "Data World!\n"
     ]
    }
   ],
   "source": [
    "str = \"Hello Data World!\"\n",
    "print(\"String Indexing:\")\n",
    "print(str[0])\n",
    "print(str[9])\n",
    "print(str[-1])\n",
    "print(\"String Slicing:\")\n",
    "print(str[0:5])\n",
    "print(str[-5:-1])\n",
    "print(str[6:])"
   ]
  },
  {
   "cell_type": "markdown",
   "id": "ea6dc7d9-8931-4f03-b3cf-2de465b0366e",
   "metadata": {},
   "source": [
    "## String Concatenation and Repetition\n",
    "\n",
    "- String concatenation is using '+' operator to concatenate two strings.\n",
    "- String repetition is using '*' operator to repeat a string"
   ]
  },
  {
   "cell_type": "code",
   "execution_count": 32,
   "id": "b22321ff-9487-4064-b020-b95300cd4c37",
   "metadata": {},
   "outputs": [
    {
     "name": "stdout",
     "output_type": "stream",
     "text": [
      "wholesome\n",
      "happy happy happy happy happy happy \n"
     ]
    }
   ],
   "source": [
    "print(\"whole\"+\"some\") # concatenation\n",
    "print(\"happy \"* 6) # repetition"
   ]
  },
  {
   "cell_type": "markdown",
   "id": "d25bfc39-c62f-440a-873f-63044300ad59",
   "metadata": {},
   "source": [
    "## Buit-in methods"
   ]
  },
  {
   "cell_type": "markdown",
   "id": "c2a4ac4a-65ef-4a10-b733-9d892a875c04",
   "metadata": {},
   "source": [
    "Methods or functions defined for string object in the str class."
   ]
  },
  {
   "cell_type": "code",
   "execution_count": 44,
   "id": "202725ef-70a6-45aa-bf68-1a9ea5cdd570",
   "metadata": {},
   "outputs": [
    {
     "name": "stdout",
     "output_type": "stream",
     "text": [
      "hello\n",
      "HELLO\n",
      "<class 'str'>\n",
      "1\n"
     ]
    }
   ],
   "source": [
    "print(\"Hello\".lower())\n",
    "print(\"Hello\".upper())\n",
    "print(type(\"Hello\"))\n",
    "print(\"Hello\".find('e'))"
   ]
  },
  {
   "cell_type": "markdown",
   "id": "92151fca-7ea5-4b89-8e9b-e41b00ceda60",
   "metadata": {},
   "source": [
    "## List Comprehensions\n",
    "\n",
    "- sequence = [expression ( **var** ) for **var** in **iterable** if condition]\n",
    "- Brackets:\n",
    "  - [] : list\n",
    "  - {} : set and dict\n",
    "  - () : generator"
   ]
  },
  {
   "cell_type": "code",
   "execution_count": 15,
   "id": "af183a0e-ca90-4059-ae66-ddef5a0653a0",
   "metadata": {},
   "outputs": [
    {
     "name": "stdout",
     "output_type": "stream",
     "text": [
      "['Hello stephy!', 'Hello sana!', 'Hello sona!']\n",
      "['Hello stephy!', 'Hello sana!', 'Hello sona!']\n"
     ]
    }
   ],
   "source": [
    "names = [\"stephy\", \"sana\", \"sona\"]\n",
    "hello = [\"Hello \" + name + \"!\" for name in names]\n",
    "print(hello)\n",
    "\n",
    "# Old method\n",
    "hello = []\n",
    "for name in names:\n",
    "    hello.append(\"Hello \" + name + \"!\")\n",
    "print(hello)"
   ]
  },
  {
   "cell_type": "code",
   "execution_count": 21,
   "id": "49aa5c66-3026-4054-9088-92bdfee15446",
   "metadata": {},
   "outputs": [
    {
     "name": "stdout",
     "output_type": "stream",
     "text": [
      "[32, 10, 54, 32]\n",
      "[(55, 3025), (87, 7569), (99, 9801)]\n"
     ]
    }
   ],
   "source": [
    "numbers = [55, 32, 87, 99, 10, 54, 32]\n",
    "even_nos = [num for num in numbers if num % 2 == 0]\n",
    "print(even_nos)\n",
    "\n",
    "odd_squares = [(num, num * num) for num in numbers if num % 2 == 1]\n",
    "print(odd_squares)"
   ]
  },
  {
   "cell_type": "markdown",
   "id": "5c03cca6-2a84-42f4-ab5b-d3a7cd87755b",
   "metadata": {},
   "source": [
    "---\n",
    "## File Handling\n",
    "- file object is used to handle text/binary files\n",
    "- w - write, a - append, r - read"
   ]
  },
  {
   "cell_type": "code",
   "execution_count": 4,
   "id": "49d272cb-aa14-4b32-bbe0-68cef9685cfa",
   "metadata": {},
   "outputs": [],
   "source": [
    "with open('myfile.txt', 'w') as file:\n",
    "    file.write(\"This is my text file\\n\")\n",
    "    file.write(\"This is the second line\\n\")\n",
    "    file.write(\"This is the last line\\n\")\n"
   ]
  },
  {
   "cell_type": "code",
   "execution_count": 6,
   "id": "4a80a2c7-01ce-4b52-992b-63f51a86da0f",
   "metadata": {},
   "outputs": [],
   "source": [
    "with open('myfile.txt', 'a') as file:\n",
    "    file.write(\"Hey I just learned file handling\")\n",
    "    "
   ]
  },
  {
   "cell_type": "code",
   "execution_count": 10,
   "id": "043b64ba-d220-4e52-8f36-292b3fdb78d7",
   "metadata": {},
   "outputs": [],
   "source": [
    "file.close()"
   ]
  }
 ],
 "metadata": {
  "kernelspec": {
   "display_name": "Python [conda env:base] *",
   "language": "python",
   "name": "conda-base-py"
  },
  "language_info": {
   "codemirror_mode": {
    "name": "ipython",
    "version": 3
   },
   "file_extension": ".py",
   "mimetype": "text/x-python",
   "name": "python",
   "nbconvert_exporter": "python",
   "pygments_lexer": "ipython3",
   "version": "3.12.7"
  }
 },
 "nbformat": 4,
 "nbformat_minor": 5
}
